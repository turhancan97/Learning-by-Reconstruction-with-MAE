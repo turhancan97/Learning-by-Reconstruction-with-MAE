{
 "cells": [
  {
   "cell_type": "markdown",
   "metadata": {},
   "source": [
    "# Imports and Setup:"
   ]
  },
  {
   "cell_type": "code",
   "execution_count": null,
   "metadata": {},
   "outputs": [
    {
     "ename": "",
     "evalue": "",
     "output_type": "error",
     "traceback": [
      "\u001b[1;31mJupyter cannot be started. Error attempting to locate Jupyter: Select an Interpreter to start Jupyter\n",
      "\u001b[1;31mRun the following command to install 'jupyter and notebook' into the Python environment. \n",
      "\u001b[1;31mCommand: 'python -m pip install jupyter notebook -U\n",
      "\u001b[1;31mor\n",
      "\u001b[1;31mconda install jupyter notebook -U'\n",
      "\u001b[1;31mClick <a href='https://aka.ms/installJupyterForVSCode'>here</a> for more info."
     ]
    }
   ],
   "source": [
    "import os\n",
    "import sys\n",
    "sys.path.append(\"../\")\n",
    "\n",
    "import matplotlib.pyplot as plt\n",
    "import torch\n",
    "import torchvision\n",
    "from einops import rearrange\n",
    "from torch.utils.data import DataLoader\n",
    "from torchvision.transforms import Compose, Normalize, ToTensor\n",
    "\n",
    "import utils\n",
    "from model import MAE_ViT"
   ]
  },
  {
   "cell_type": "markdown",
   "metadata": {},
   "source": [
    "# Load the Pretrained Model:"
   ]
  },
  {
   "cell_type": "code",
   "execution_count": null,
   "metadata": {},
   "outputs": [],
   "source": [
    "# define the model, dataset and pca mode\n",
    "config_file_path = \"../config/config_file.yaml\"\n",
    "cfg = utils.load_yaml(config_file_path)\n",
    "dataset_name = cfg[\"MAE\"][\"dataset\"]\n",
    "pca_mode = cfg[\"MAE\"][\"pca_mode\"]\n",
    "model_name = cfg[\"MAE\"][\"model_name\"]\n",
    "folder_name = f\"../model/{dataset_name}/{pca_mode}\"\n",
    "model_path = f\"{folder_name}/{model_name}\"\n",
    "mask_ratio = cfg[\"MAE\"][\"mask_ratio\"]\n",
    "model = torch.load(model_path)\n",
    "model.eval()\n",
    "device = utils.get_gpu()\n",
    "model.to(device)"
   ]
  },
  {
   "cell_type": "markdown",
   "metadata": {},
   "source": [
    "# Load Validation Dataset:"
   ]
  },
  {
   "cell_type": "code",
   "execution_count": null,
   "metadata": {},
   "outputs": [],
   "source": [
    "root_path = f\"../data/{dataset_name}\"\n",
    "transform = Compose([ToTensor(), Normalize(0.5, 0.5)])\n",
    "\n",
    "_, val_dataset = utils.load_and_preprocess_images(root_path, dataset_name, transform)\n",
    "val_dataloader = DataLoader(val_dataset, batch_size=16, shuffle=False, num_workers=4)"
   ]
  },
  {
   "cell_type": "markdown",
   "metadata": {},
   "source": [
    "# Compute Validation Loss:"
   ]
  },
  {
   "cell_type": "code",
   "execution_count": null,
   "metadata": {},
   "outputs": [],
   "source": [
    "val_loss = 0\n",
    "with torch.no_grad():\n",
    "    for val_img, _ in val_dataloader:\n",
    "        val_img = val_img.to(device)\n",
    "        predicted_val_img, mask = model(val_img)\n",
    "        loss = torch.mean((predicted_val_img - val_img) ** 2 * mask) / mask_ratio\n",
    "        val_loss += loss.item()\n",
    "val_loss /= len(val_dataloader)\n",
    "print(f\"Validation Loss: {val_loss:.4f}\")"
   ]
  },
  {
   "cell_type": "markdown",
   "metadata": {},
   "source": [
    "# Visualize the Predictions:"
   ]
  },
  {
   "cell_type": "code",
   "execution_count": null,
   "metadata": {},
   "outputs": [],
   "source": [
    "# Visualize the first batch\n",
    "val_img, _ = next(iter(val_dataloader))\n",
    "val_img = val_img.to(device)\n",
    "predicted_val_img, mask = model(val_img)\n",
    "predicted_val_img = predicted_val_img * mask + val_img * (1 - mask)\n",
    "\n",
    "img = torch.cat([val_img * (1 - mask), predicted_val_img, val_img], dim=0)\n",
    "img = rearrange(img, \"(v h1 w1) c h w -> c (h1 h) (w1 v w)\", w1=2, v=3)\n",
    "\n",
    "img = (\n",
    "    img.cpu().detach().numpy().transpose(1, 2, 0) + 1\n",
    ") / 2  # Normalize to [0, 1] for display\n",
    "\n",
    "plt.figure(figsize=(10, 10))\n",
    "plt.imshow(img)\n",
    "plt.axis(\"off\")\n",
    "plt.show()\n",
    "folder_name = f\"../images/model_results\"\n",
    "# create a folder to save the model if it does not exist\n",
    "os.makedirs(folder_name, exist_ok=True)\n",
    "plt.savefig(f\"{folder_name}/mae_visualize.png\")"
   ]
  }
 ],
 "metadata": {
  "kernelspec": {
   "display_name": "Python 3",
   "language": "python",
   "name": "python3"
  }
 },
 "nbformat": 4,
 "nbformat_minor": 2
}
